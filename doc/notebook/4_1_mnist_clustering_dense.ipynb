{
 "cells": [
  {
   "cell_type": "markdown",
   "metadata": {},
   "source": [
    "## <font color='green'> MNIST - Clustering (Dense Matrix)<font>"
   ]
  },
  {
   "cell_type": "markdown",
   "metadata": {},
   "source": [
    "### <font color='green'> 1. Description<font>\n",
    "\n",
    "Clustering using MNIST Digit Recognition dataset.\n",
    "Dataset is downloaded from tensorflow by using `tensorflow.keras.datasets.mnist.load_data()` method; so please install tensorflow.\n",
    "\n",
    "The MNIST database (Modified National Institute of Standards and Technology database) is a large database of handwritten digits that is commonly used for training various image processing systems. In this demo we will use this dataset to correctly cluster similar digits."
   ]
  },
  {
   "cell_type": "markdown",
   "metadata": {},
   "source": [
    "### <font color='green'> 2. Data Preprocessing<font>\n",
    "\n",
    "For MNIST Digits dataset we will perform some data preparation and data cleaning steps."
   ]
  },
  {
   "cell_type": "code",
   "execution_count": 1,
   "metadata": {},
   "outputs": [],
   "source": [
    "%%capture\n",
    "import os\n",
    "import time\n",
    "import pandas as pd\n",
    "import numpy as np\n",
    "import tensorflow as tf\n",
    "from sklearn import metrics\n",
    "from collections import OrderedDict"
   ]
  },
  {
   "cell_type": "code",
   "execution_count": 2,
   "metadata": {},
   "outputs": [],
   "source": [
    "def preprocess_data():\n",
    "    '''\n",
    "    Load the mnist data and perform pre-processing\n",
    "    '''\n",
    "    # Load MNIST Digits dataset\n",
    "    (x_train, y_train), (x_test, y_test) = tf.keras.datasets.mnist.load_data()\n",
    "    x = np.concatenate((x_train, x_test))\n",
    "    y = np.concatenate((y_train, y_test))\n",
    "    x = x.reshape((x.shape[0], -1)).astype('float32')\n",
    "    x = np.divide(x, 255.)\n",
    "    return x, y"
   ]
  },
  {
   "cell_type": "code",
   "execution_count": 3,
   "metadata": {},
   "outputs": [
    {
     "name": "stdout",
     "output_type": "stream",
     "text": [
      "Dataset contains (70000, 784) samples\n",
      "Dataset contains 10 classes\n"
     ]
    }
   ],
   "source": [
    "#---- Data Loading and Preparation ----\n",
    "\n",
    "X, y = preprocess_data()\n",
    "n_clusters = len(np.unique(y))\n",
    "print(\"Dataset contains {} samples\".format(X.shape))\n",
    "print(\"Dataset contains {} classes\".format(n_clusters))"
   ]
  },
  {
   "cell_type": "code",
   "execution_count": 4,
   "metadata": {},
   "outputs": [
    {
     "data": {
      "image/png": "[encoded data removed]",
      "text/plain": [
       "<Figure size 432x288 with 1 Axes>"
      ]
     },
     "metadata": {
      "needs_background": "light"
     },
     "output_type": "display_data"
    }
   ],
   "source": [
    "# Label distribution summary\n",
    "import matplotlib.pyplot as plt\n",
    "val, count = np.unique(y, return_counts=True)\n",
    "label = np.asarray((val, count)).T\n",
    "labels_df = pd.DataFrame(data=label)\n",
    "ax = labels_df[1].plot(kind='bar', title='Label Distribution').\\\n",
    "     set(xlabel=\"Digit\", ylabel=\"Count of digit images\")"
   ]
  },
  {
   "cell_type": "code",
   "execution_count": 5,
   "metadata": {},
   "outputs": [
    {
     "data": {
      "image/png": "[encoded data removed]",
      "text/plain": [
       "<Figure size 432x288 with 1 Axes>"
      ]
     },
     "metadata": {
      "needs_background": "light"
     },
     "output_type": "display_data"
    },
    {
     "data": {
      "image/png": "[encoded data removed]",
      "text/plain": [
       "<Figure size 432x288 with 1 Axes>"
      ]
     },
     "metadata": {
      "needs_background": "light"
     },
     "output_type": "display_data"
    }
   ],
   "source": [
    "plt.imshow(X[0].reshape(28, 28), cmap = 'binary')\n",
    "plt.title('Digit Label = {}'.format(y[0]))\n",
    "plt.show()\n",
    "plt.imshow(X[1000].reshape(28, 28), cmap = 'magma')\n",
    "plt.title('Digit Label = {}'.format(y[1000]))\n",
    "plt.show()"
   ]
  },
  {
   "cell_type": "markdown",
   "metadata": {},
   "source": [
    "### <font color='green'> 3. Algorithm Evaluation<font>"
   ]
  },
  {
   "cell_type": "code",
   "execution_count": 6,
   "metadata": {},
   "outputs": [],
   "source": [
    "train_time = []\n",
    "homogeneity = []\n",
    "estimator_name = []"
   ]
  },
  {
   "cell_type": "code",
   "execution_count": 7,
   "metadata": {},
   "outputs": [],
   "source": [
    "def evaluate(estimator, estimator_nm, X, y):\n",
    "    '''\n",
    "    To generate performance report for both frovedis and sklearn estimators\n",
    "    '''\n",
    "    estimator_name.append(estimator_nm)\n",
    "\n",
    "    start_time = time.time()\n",
    "    y_pred = estimator.fit_predict(X)\n",
    "    train_time.append(round(time.time() - start_time, 4))\n",
    "\n",
    "    homogeneity.append(metrics.homogeneity_score(y.ravel(), y_pred))"
   ]
  },
  {
   "cell_type": "markdown",
   "metadata": {},
   "source": [
    "#### 3.1 KMeans Clustering"
   ]
  },
  {
   "cell_type": "code",
   "execution_count": 8,
   "metadata": {},
   "outputs": [],
   "source": [
    "#Demo: KMeans Clustering\n",
    "import frovedis\n",
    "TARGET = \"kmeans\"\n",
    "from frovedis.exrpc.server import FrovedisServer\n",
    "FrovedisServer.initialize(\"mpirun -np 8 \" + os.environ[\"FROVEDIS_SERVER\"])\n",
    "from frovedis.mllib.cluster import KMeans as frovKM\n",
    "f_est = frovKM(n_clusters=n_clusters, init='random', algorithm='full', n_init=1)\n",
    "E_NM = TARGET + \"_frovedis_\" + frovedis.__version__\n",
    "evaluate(f_est, E_NM, X, y)\n",
    "f_est.release()\n",
    "FrovedisServer.shut_down()\n",
    "\n",
    "import sklearn\n",
    "from sklearn.cluster import KMeans as skKM\n",
    "s_est = skKM(n_clusters=n_clusters, init='random', algorithm='full', n_init=1)\n",
    "E_NM = TARGET + \"_sklearn_\" + sklearn.__version__\n",
    "evaluate(s_est, E_NM, X, y)"
   ]
  },
  {
   "cell_type": "markdown",
   "metadata": {},
   "source": [
    "#### 3.2 Agglomerative Clustering"
   ]
  },
  {
   "cell_type": "code",
   "execution_count": 9,
   "metadata": {},
   "outputs": [],
   "source": [
    "#Demo: Agglomerative Clustering\n",
    "import frovedis\n",
    "TARGET = \"agglomerative\"\n",
    "from frovedis.exrpc.server import FrovedisServer\n",
    "FrovedisServer.initialize(\"mpirun -np 8 \" + os.environ[\"FROVEDIS_SERVER\"] )\n",
    "from frovedis.mllib.cluster import AgglomerativeClustering as frovAgglomerative\n",
    "\n",
    "# for Agglomerative performed PCA decomposition\n",
    "from frovedis.mllib.decomposition import PCA\n",
    "x_pca = PCA(n_components=100).fit_transform(X)\n",
    "\n",
    "f_est = frovAgglomerative(n_clusters=n_clusters, linkage=\"average\")\n",
    "E_NM = TARGET + \"_frovedis_\" + frovedis.__version__\n",
    "evaluate(f_est, E_NM, x_pca, y)\n",
    "f_est.release()\n",
    "FrovedisServer.shut_down()\n",
    "\n",
    "import sklearn\n",
    "from sklearn.cluster import AgglomerativeClustering as skAgglomerative\n",
    "s_est = skAgglomerative(n_clusters=n_clusters, linkage=\"average\")\n",
    "E_NM = TARGET + \"_sklearn_\" + sklearn.__version__\n",
    "evaluate(s_est, E_NM, x_pca, y)"
   ]
  },
  {
   "cell_type": "markdown",
   "metadata": {},
   "source": [
    "#### 3.3 DBSCAN Clustering"
   ]
  },
  {
   "cell_type": "code",
   "execution_count": 10,
   "metadata": {},
   "outputs": [],
   "source": [
    "#Demo: DBSCAN Clustering\n",
    "import frovedis\n",
    "TARGET = \"dbscan\"\n",
    "from frovedis.exrpc.server import FrovedisServer\n",
    "FrovedisServer.initialize(\"mpirun -np 8 \" + os.environ[\"FROVEDIS_SERVER\"] )\n",
    "from frovedis.mllib.cluster import DBSCAN as frovDB\n",
    "f_est = frovDB(eps=4.52, metric=\"euclidean\", algorithm=\"brute\")\n",
    "E_NM = TARGET + \"_frovedis_\" + frovedis.__version__\n",
    "\n",
    "# we are evaluating DBSCAN with first 50k samples due to memeory issue at Frovedis Server when trying with full data \n",
    "evaluate(f_est, E_NM, X[:50000,:], y[:50000])     \n",
    "f_est.release()\n",
    "FrovedisServer.shut_down()\n",
    "\n",
    "import sklearn\n",
    "from sklearn.cluster import DBSCAN as skDB\n",
    "s_est = skDB(eps=4.52, metric=\"euclidean\", algorithm=\"brute\", n_jobs=12)\n",
    "E_NM = TARGET + \"_sklearn_\" + sklearn.__version__\n",
    "evaluate(s_est, E_NM, X[:50000,:], y[:50000])"
   ]
  },
  {
   "cell_type": "markdown",
   "metadata": {},
   "source": [
    "### <font color='green'> 4. Performance summary<font>"
   ]
  },
  {
   "cell_type": "code",
   "execution_count": 11,
   "metadata": {},
   "outputs": [
    {
     "data": {
      "text/html": [
       "<div>\n",
       "<style scoped>\n",
       "    .dataframe tbody tr th:only-of-type {\n",
       "        vertical-align: middle;\n",
       "    }\n",
       "\n",
       "    .dataframe tbody tr th {\n",
       "        vertical-align: top;\n",
       "    }\n",
       "\n",
       "    .dataframe thead th {\n",
       "        text-align: right;\n",
       "    }\n",
       "</style>\n",
       "<table border=\"1\" class=\"dataframe\">\n",
       "  <thead>\n",
       "    <tr style=\"text-align: right;\">\n",
       "      <th></th>\n",
       "      <th>estimator</th>\n",
       "      <th>train time</th>\n",
       "      <th>homogeneity_score</th>\n",
       "    </tr>\n",
       "  </thead>\n",
       "  <tbody>\n",
       "    <tr>\n",
       "      <th>0</th>\n",
       "      <td>kmeans_frovedis_0.9.10</td>\n",
       "      <td>0.9357</td>\n",
       "      <td>0.485315</td>\n",
       "    </tr>\n",
       "    <tr>\n",
       "      <th>1</th>\n",
       "      <td>kmeans_sklearn_0.24.1</td>\n",
       "      <td>1.9387</td>\n",
       "      <td>0.496518</td>\n",
       "    </tr>\n",
       "    <tr>\n",
       "      <th>2</th>\n",
       "      <td>agglomerative_frovedis_0.9.10</td>\n",
       "      <td>16.8117</td>\n",
       "      <td>0.163916</td>\n",
       "    </tr>\n",
       "    <tr>\n",
       "      <th>3</th>\n",
       "      <td>agglomerative_sklearn_0.24.1</td>\n",
       "      <td>361.5187</td>\n",
       "      <td>0.163916</td>\n",
       "    </tr>\n",
       "    <tr>\n",
       "      <th>4</th>\n",
       "      <td>dbscan_frovedis_0.9.10</td>\n",
       "      <td>1.5997</td>\n",
       "      <td>0.185969</td>\n",
       "    </tr>\n",
       "    <tr>\n",
       "      <th>5</th>\n",
       "      <td>dbscan_sklearn_0.24.1</td>\n",
       "      <td>58.5784</td>\n",
       "      <td>0.185466</td>\n",
       "    </tr>\n",
       "  </tbody>\n",
       "</table>\n",
       "</div>"
      ],
      "text/plain": [
       "                       estimator  train time  homogeneity_score\n",
       "0         kmeans_frovedis_0.9.10      0.9357           0.485315\n",
       "1          kmeans_sklearn_0.24.1      1.9387           0.496518\n",
       "2  agglomerative_frovedis_0.9.10     16.8117           0.163916\n",
       "3   agglomerative_sklearn_0.24.1    361.5187           0.163916\n",
       "4         dbscan_frovedis_0.9.10      1.5997           0.185969\n",
       "5          dbscan_sklearn_0.24.1     58.5784           0.185466"
      ]
     },
     "execution_count": 11,
     "metadata": {},
     "output_type": "execute_result"
    }
   ],
   "source": [
    "summary = pd.DataFrame(OrderedDict({ \"estimator\": estimator_name,\n",
    "                                     \"train time\": train_time, \n",
    "                                     \"homogeneity_score\": homogeneity\n",
    "                                  }))\n",
    "summary"
   ]
  }
 ],
 "metadata": {
  "kernelspec": {
   "display_name": "Python 3",
   "language": "python",
   "name": "python3"
  },
  "language_info": {
   "codemirror_mode": {
    "name": "ipython",
    "version": 3
   },
   "file_extension": ".py",
   "mimetype": "text/x-python",
   "name": "python",
   "nbconvert_exporter": "python",
   "pygments_lexer": "ipython3",
   "version": "3.6.9"
  }
 },
 "nbformat": 4,
 "nbformat_minor": 4
}
