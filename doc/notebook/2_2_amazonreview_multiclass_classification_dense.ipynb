{
 "cells": [
  {
   "cell_type": "markdown",
   "metadata": {},
   "source": [
    "### <font color='green'>1. Description<font>\n",
    "\n",
    "Sentiment classification using Amazon review dataset (multi class classification).\n",
    "Dataset can be downloaded from https://s3.amazonaws.com/amazon-reviews-pds/tsv/amazon_reviews_us_Books_v1_02.tsv.gz\n",
    "\n",
    "The consumer reviews serve as feedback for businesses in terms of performance, product quality, and consumer service. An online review typically consists of free-form text and a star rating out of 5. The problem of predicting a user’s star rating for a product, given the user’s text review for that product is lately become a popular, albeit hard, problem in machine learning. \n",
    "Using this dataset, we train a classifier to predict product rating based on the review text.\n",
    "\n",
    "Predicting the ratings based on the text is particulary difficult tasks. The primary reason for the difficulty is that two person can provide different ratings for writing similar reviews. As the scale for ratings increases (scale of 5 to scale of 10), the tasks become increasingly difficult."
   ]
  },
  {
   "cell_type": "markdown",
   "metadata": {},
   "source": [
    "### <font color='green'>2. Data Preprocessing<font>\n",
    "\n",
    "For amazon review classification we will perform some data preparation and data cleaning steps. We will generate word2vec embeddings for review text."
   ]
  },
  {
   "cell_type": "code",
   "execution_count": 1,
   "metadata": {},
   "outputs": [],
   "source": [
    "import os\n",
    "import re\n",
    "import time\n",
    "import pandas as pd\n",
    "import numpy as np\n",
    "from collections import OrderedDict\n",
    "from nltk.corpus import stopwords\n",
    "from nltk.tokenize import word_tokenize\n",
    "from sklearn import metrics\n",
    "from sklearn.model_selection import train_test_split"
   ]
  },
  {
   "cell_type": "code",
   "execution_count": 2,
   "metadata": {},
   "outputs": [],
   "source": [
    "def clean_review(review):\n",
    "    pattern = re.compile(r'[^a-zA-Z0-9 ]')\n",
    "    review = pattern.sub(' ', review)\n",
    "    return review\n",
    "\n",
    "def document_vector_frovedis(doc, frov_w2v_model, frov_vocab):\n",
    "    \"\"\"Create document vectors by averaging word vectors. Remove out-of-vocabulary words.\"\"\"\n",
    "    no_embedding = np.zeros(frov_w2v_model.shape[1])\n",
    "    vocab_doc = [word for word in doc if word in frov_vocab]\n",
    "    if len(vocab_doc) != 0:\n",
    "        return list(np.mean(frov_w2v_model.loc[vocab_doc], axis=0))\n",
    "    else:\n",
    "        return list(no_embedding)"
   ]
  },
  {
   "cell_type": "code",
   "execution_count": 3,
   "metadata": {},
   "outputs": [],
   "source": [
    "def create_w2v_embed(df):\n",
    "    from frovedis.exrpc.server import FrovedisServer\n",
    "    from frovedis.mllib.feature.w2v import Word2Vec as Frovedis_Word2Vec\n",
    "    os.environ[\"VE_OMP_NUM_THREADS\"] = '8'\n",
    "    FrovedisServer.initialize(\"mpirun -np 1 \" + os.environ[\"FROVEDIS_SERVER\"])\n",
    "    frovedis_w2v = Frovedis_Word2Vec(sentences = list(df[\"review_body\"]), hiddenSize=512, minCount=2, n_iter=100)\n",
    "    x_emb = frovedis_w2v.transform(list(df[\"review_body\"]), func = np.mean)\n",
    "    os.environ[\"VE_OMP_NUM_THREADS\"] = '1'\n",
    "    FrovedisServer.shut_down()\n",
    "    return pd.DataFrame(x_emb)"
   ]
  },
  {
   "cell_type": "code",
   "execution_count": 4,
   "metadata": {},
   "outputs": [],
   "source": [
    "def preprocess_data(fname):\n",
    "    df = pd.read_csv(fname, sep='\\t', error_bad_lines=False)\n",
    "    print(df.shape)\n",
    "    df = df[[\"review_body\", \"star_rating\"]]\n",
    "    df = df.dropna().drop_duplicates().sample(frac=1, random_state=42)\n",
    "    df['review_body'] = df['review_body'].str.lower().apply(clean_review)\n",
    "    print(\"Dataset contains {} reviews\".format(df.shape[0]))\n",
    "    rating_categories = df[\"star_rating\"].value_counts()\n",
    "    stop = stopwords.words('english')\n",
    "    df['review_body'] = df['review_body'].apply(lambda x: [item for item in word_tokenize(x) if item not in stop])\n",
    "    x = create_w2v_embed(df)\n",
    "    x_train, x_test, y_train, y_test = train_test_split(x, df[\"star_rating\"], random_state=42)\n",
    "    return x_train, x_test, y_train, y_test, rating_categories"
   ]
  },
  {
   "cell_type": "code",
   "execution_count": 5,
   "metadata": {
    "scrolled": true
   },
   "outputs": [
    {
     "name": "stderr",
     "output_type": "stream",
     "text": [
      "b'Skipping line 1680001: expected 15 fields, saw 22\\n'\n"
     ]
    },
    {
     "name": "stdout",
     "output_type": "stream",
     "text": [
      "(3105370, 15)\n",
      "Dataset contains 3071369 reviews\n",
      "shape of train data: (2303526, 512)\n",
      "shape of test data: (767843, 512)\n"
     ]
    }
   ],
   "source": [
    "#---- Data Preparation ----\n",
    "# Please uncomment the below lines to download and unzip the dataset.\n",
    "#!wget -N https://s3.amazonaws.com/amazon-reviews-pds/tsv/amazon_reviews_us_Books_v1_02.tsv.gz\n",
    "#!gunzip amazon_reviews_us_Books_v1_02.tsv.gz\n",
    "#!mv amazon_reviews_us_Books_v1_02.tsv datasets\n",
    "\n",
    "DATA_FILE = \"datasets/amazon_reviews_us_Books_v1_02.tsv/amazon_reviews_us_Books_v1_02.tsv\"\n",
    "x_train, x_test, y_train, y_test, rating_categories = preprocess_data(DATA_FILE)\n",
    "print(\"shape of train data: {}\".format(x_train.shape))\n",
    "print(\"shape of test data: {}\".format(x_test.shape))"
   ]
  },
  {
   "cell_type": "code",
   "execution_count": 6,
   "metadata": {},
   "outputs": [
    {
     "data": {
      "image/png": "[encoded data removed]",
      "text/plain": [
       "<Figure size 432x288 with 1 Axes>"
      ]
     },
     "metadata": {
      "needs_background": "light"
     },
     "output_type": "display_data"
    }
   ],
   "source": [
    "# Label distribution summary\n",
    "ax = rating_categories.plot(kind='bar', title='Label Distribution').\\\n",
    "     set(xlabel=\"Rating Id's\", ylabel=\"No. of reviewes\")"
   ]
  },
  {
   "cell_type": "markdown",
   "metadata": {},
   "source": [
    "### <font color='green'> 3. Algorithm Evaluation<font>"
   ]
  },
  {
   "cell_type": "code",
   "execution_count": 7,
   "metadata": {},
   "outputs": [],
   "source": [
    "train_time = []\n",
    "test_time = []\n",
    "accuracy = []\n",
    "precision = []\n",
    "recall = []\n",
    "f1 = []\n",
    "estimator_name = []"
   ]
  },
  {
   "cell_type": "code",
   "execution_count": 8,
   "metadata": {},
   "outputs": [],
   "source": [
    "def evaluate(estimator, estimator_nm,\n",
    "             x_train, y_train,\n",
    "             x_test, y_test):\n",
    "    estimator_name.append(estimator_nm)\n",
    "\n",
    "    start_time = time.time()\n",
    "    estimator.fit(x_train, y_train)\n",
    "    train_time.append(round(time.time() - start_time, 4))\n",
    "\n",
    "    start_time = time.time()\n",
    "    pred_y = estimator.predict(x_test)\n",
    "    test_time.append(round(time.time() - start_time, 4))\n",
    "\n",
    "    accuracy.append(metrics.accuracy_score(y_test, pred_y))\n",
    "    precision.append(metrics.precision_score(y_test, pred_y, average='macro'))\n",
    "    recall.append(metrics.recall_score(y_test, pred_y, average='macro'))\n",
    "    f1.append(metrics.f1_score(y_test, pred_y, average='macro'))\n",
    "\n",
    "    target_names = ['rating 1.0', 'rating 2.0', 'rating 3.0', 'rating 4.0', 'rating 5.0']\n",
    "    return metrics.classification_report(y_test, pred_y, target_names=target_names)"
   ]
  },
  {
   "cell_type": "markdown",
   "metadata": {},
   "source": [
    "#### 3.1 Bernoulli Naive Bayes"
   ]
  },
  {
   "cell_type": "code",
   "execution_count": 9,
   "metadata": {},
   "outputs": [
    {
     "name": "stdout",
     "output_type": "stream",
     "text": [
      "Frovedis Bernoulli Naive Bayes metrices: \n",
      "              precision    recall  f1-score   support\n",
      "\n",
      "  rating 1.0       0.34      0.49      0.40     59017\n",
      "  rating 2.0       0.17      0.31      0.22     41354\n",
      "  rating 3.0       0.20      0.22      0.21     61591\n",
      "  rating 4.0       0.28      0.31      0.30    144753\n",
      "  rating 5.0       0.78      0.65      0.71    461128\n",
      "\n",
      "    accuracy                           0.52    767843\n",
      "   macro avg       0.35      0.39      0.37    767843\n",
      "weighted avg       0.57      0.52      0.54    767843\n",
      "\n",
      "Sklearn Bernoulli Naive Bayes metrices: \n",
      "              precision    recall  f1-score   support\n",
      "\n",
      "  rating 1.0       0.34      0.49      0.40     59017\n",
      "  rating 2.0       0.17      0.31      0.22     41354\n",
      "  rating 3.0       0.20      0.22      0.21     61591\n",
      "  rating 4.0       0.28      0.31      0.30    144753\n",
      "  rating 5.0       0.78      0.65      0.71    461128\n",
      "\n",
      "    accuracy                           0.52    767843\n",
      "   macro avg       0.35      0.39      0.37    767843\n",
      "weighted avg       0.57      0.52      0.54    767843\n",
      "\n"
     ]
    }
   ],
   "source": [
    "# Demo: Bernoulli Naive Bayes\n",
    "import frovedis\n",
    "TARGET = \"bernoulli_naive_bayes\"\n",
    "from frovedis.exrpc.server import FrovedisServer\n",
    "FrovedisServer.initialize(\"mpirun -np 8 \" + os.environ[\"FROVEDIS_SERVER\"])\n",
    "from frovedis.mllib.naive_bayes import BernoulliNB as frovNB\n",
    "\n",
    "f_est = frovNB(alpha=1.0)\n",
    "E_NM = TARGET + \"_frovedis_\" + frovedis.__version__\n",
    "f_report = evaluate(f_est, E_NM, \\\n",
    "                    x_train, y_train, x_test, y_test)\n",
    "f_est.release()\n",
    "FrovedisServer.shut_down()\n",
    "\n",
    "import sklearn\n",
    "from sklearn.naive_bayes import BernoulliNB as skNB\n",
    "s_est = skNB(alpha=1.0)\n",
    "E_NM = TARGET + \"_sklearn_\" + sklearn.__version__\n",
    "s_report = evaluate(s_est, E_NM, \\\n",
    "                    x_train, y_train, x_test, y_test)\n",
    "# Precision, Recall and F1 score for each class\n",
    "print(\"Frovedis Bernoulli Naive Bayes metrices: \")\n",
    "print(f_report)\n",
    "print(\"Sklearn Bernoulli Naive Bayes metrices: \")\n",
    "print(s_report)"
   ]
  },
  {
   "cell_type": "markdown",
   "metadata": {},
   "source": [
    "#### 3.2 Decision Tree"
   ]
  },
  {
   "cell_type": "code",
   "execution_count": 10,
   "metadata": {},
   "outputs": [
    {
     "name": "stderr",
     "output_type": "stream",
     "text": [
      "/home/adityaw/virt1/lib64/python3.6/site-packages/sklearn/metrics/_classification.py:1245: UndefinedMetricWarning: Precision is ill-defined and being set to 0.0 in labels with no predicted samples. Use `zero_division` parameter to control this behavior.\n",
      "  _warn_prf(average, modifier, msg_start, len(result))\n",
      "/home/adityaw/virt1/lib64/python3.6/site-packages/sklearn/metrics/_classification.py:1245: UndefinedMetricWarning: Precision and F-score are ill-defined and being set to 0.0 in labels with no predicted samples. Use `zero_division` parameter to control this behavior.\n",
      "  _warn_prf(average, modifier, msg_start, len(result))\n",
      "/home/adityaw/virt1/lib64/python3.6/site-packages/sklearn/metrics/_classification.py:1245: UndefinedMetricWarning: Precision and F-score are ill-defined and being set to 0.0 in labels with no predicted samples. Use `zero_division` parameter to control this behavior.\n",
      "  _warn_prf(average, modifier, msg_start, len(result))\n"
     ]
    },
    {
     "name": "stdout",
     "output_type": "stream",
     "text": [
      "Frovedis Decision Tree metrices: \n",
      "              precision    recall  f1-score   support\n",
      "\n",
      "  rating 1.0       0.37      0.27      0.31     59017\n",
      "  rating 2.0       0.22      0.01      0.01     41354\n",
      "  rating 3.0       0.23      0.04      0.07     61591\n",
      "  rating 4.0       0.26      0.03      0.06    144753\n",
      "  rating 5.0       0.64      0.96      0.77    461128\n",
      "\n",
      "    accuracy                           0.61    767843\n",
      "   macro avg       0.34      0.26      0.24    767843\n",
      "weighted avg       0.49      0.61      0.50    767843\n",
      "\n",
      "Sklearn Decision Tree metrices: \n",
      "              precision    recall  f1-score   support\n",
      "\n",
      "  rating 1.0       0.00      0.00      0.00     59017\n",
      "  rating 2.0       0.00      0.00      0.00     41354\n",
      "  rating 3.0       0.00      0.00      0.00     61591\n",
      "  rating 4.0       0.00      0.00      0.00    144753\n",
      "  rating 5.0       0.60      1.00      0.75    461128\n",
      "\n",
      "    accuracy                           0.60    767843\n",
      "   macro avg       0.12      0.20      0.15    767843\n",
      "weighted avg       0.36      0.60      0.45    767843\n",
      "\n"
     ]
    },
    {
     "name": "stderr",
     "output_type": "stream",
     "text": [
      "/home/adityaw/virt1/lib64/python3.6/site-packages/sklearn/metrics/_classification.py:1245: UndefinedMetricWarning: Precision and F-score are ill-defined and being set to 0.0 in labels with no predicted samples. Use `zero_division` parameter to control this behavior.\n",
      "  _warn_prf(average, modifier, msg_start, len(result))\n"
     ]
    }
   ],
   "source": [
    "# Demo: DecisionTreeClassifier\n",
    "import frovedis\n",
    "TARGET = \"decision_tree\"\n",
    "from frovedis.exrpc.server import FrovedisServer\n",
    "FrovedisServer.initialize(\"mpirun -np 8 \" + os.environ[\"FROVEDIS_SERVER\"])\n",
    "from frovedis.mllib.tree import DecisionTreeClassifier as frovDecisionTreeClassifier\n",
    "\n",
    "f_est = frovDecisionTreeClassifier(max_leaf_nodes=5, max_depth=12)\n",
    "E_NM = TARGET + \"_frovedis_\" + frovedis.__version__\n",
    "f_report = evaluate(f_est, E_NM, \\\n",
    "                    x_train, y_train, x_test, y_test)\n",
    "f_est.release()\n",
    "FrovedisServer.shut_down()\n",
    "\n",
    "import sklearn\n",
    "from sklearn.tree import DecisionTreeClassifier as skDecisionTreeClassifier\n",
    "s_est = skDecisionTreeClassifier(max_leaf_nodes=5, max_depth=12)\n",
    "E_NM = TARGET + \"_sklearn_\" + sklearn.__version__\n",
    "s_report = evaluate(s_est, E_NM, \\\n",
    "                    x_train, y_train, x_test, y_test)\n",
    "\n",
    "# Precision, Recall and F1 score for each class\n",
    "print(\"Frovedis Decision Tree metrices: \")\n",
    "print(f_report)\n",
    "print(\"Sklearn Decision Tree metrices: \")\n",
    "print(s_report)"
   ]
  },
  {
   "cell_type": "markdown",
   "metadata": {},
   "source": [
    "### <font color='green'> 4. Performance summary<font>"
   ]
  },
  {
   "cell_type": "code",
   "execution_count": 11,
   "metadata": {},
   "outputs": [
    {
     "data": {
      "text/html": [
       "<div>\n",
       "<style scoped>\n",
       "    .dataframe tbody tr th:only-of-type {\n",
       "        vertical-align: middle;\n",
       "    }\n",
       "\n",
       "    .dataframe tbody tr th {\n",
       "        vertical-align: top;\n",
       "    }\n",
       "\n",
       "    .dataframe thead th {\n",
       "        text-align: right;\n",
       "    }\n",
       "</style>\n",
       "<table border=\"1\" class=\"dataframe\">\n",
       "  <thead>\n",
       "    <tr style=\"text-align: right;\">\n",
       "      <th></th>\n",
       "      <th>estimator</th>\n",
       "      <th>train time</th>\n",
       "      <th>test time</th>\n",
       "      <th>accuracy</th>\n",
       "      <th>precision</th>\n",
       "      <th>recall</th>\n",
       "      <th>f1-score</th>\n",
       "    </tr>\n",
       "  </thead>\n",
       "  <tbody>\n",
       "    <tr>\n",
       "      <th>0</th>\n",
       "      <td>bernoulli_naive_bayes_frovedis_0.9.10</td>\n",
       "      <td>3.8471</td>\n",
       "      <td>2.5516</td>\n",
       "      <td>0.518564</td>\n",
       "      <td>0.354237</td>\n",
       "      <td>0.394694</td>\n",
       "      <td>0.366431</td>\n",
       "    </tr>\n",
       "    <tr>\n",
       "      <th>1</th>\n",
       "      <td>bernoulli_naive_bayes_sklearn_0.24.1</td>\n",
       "      <td>19.9974</td>\n",
       "      <td>6.7362</td>\n",
       "      <td>0.518564</td>\n",
       "      <td>0.354237</td>\n",
       "      <td>0.394694</td>\n",
       "      <td>0.366431</td>\n",
       "    </tr>\n",
       "    <tr>\n",
       "      <th>2</th>\n",
       "      <td>decision_tree_frovedis_0.9.10</td>\n",
       "      <td>35.7016</td>\n",
       "      <td>3.6518</td>\n",
       "      <td>0.609019</td>\n",
       "      <td>0.344660</td>\n",
       "      <td>0.261983</td>\n",
       "      <td>0.243691</td>\n",
       "    </tr>\n",
       "    <tr>\n",
       "      <th>3</th>\n",
       "      <td>decision_tree_sklearn_0.24.1</td>\n",
       "      <td>730.6046</td>\n",
       "      <td>1.5582</td>\n",
       "      <td>0.600550</td>\n",
       "      <td>0.120110</td>\n",
       "      <td>0.200000</td>\n",
       "      <td>0.150086</td>\n",
       "    </tr>\n",
       "  </tbody>\n",
       "</table>\n",
       "</div>"
      ],
      "text/plain": [
       "                               estimator  train time  test time  accuracy  \\\n",
       "0  bernoulli_naive_bayes_frovedis_0.9.10      3.8471     2.5516  0.518564   \n",
       "1   bernoulli_naive_bayes_sklearn_0.24.1     19.9974     6.7362  0.518564   \n",
       "2          decision_tree_frovedis_0.9.10     35.7016     3.6518  0.609019   \n",
       "3           decision_tree_sklearn_0.24.1    730.6046     1.5582  0.600550   \n",
       "\n",
       "   precision    recall  f1-score  \n",
       "0   0.354237  0.394694  0.366431  \n",
       "1   0.354237  0.394694  0.366431  \n",
       "2   0.344660  0.261983  0.243691  \n",
       "3   0.120110  0.200000  0.150086  "
      ]
     },
     "execution_count": 11,
     "metadata": {},
     "output_type": "execute_result"
    }
   ],
   "source": [
    "summary = pd.DataFrame(OrderedDict({ \"estimator\": estimator_name,\n",
    "                                     \"train time\": train_time,\n",
    "                                     \"test time\": test_time,\n",
    "                                     \"accuracy\": accuracy,\n",
    "                                     \"precision\": precision,\n",
    "                                     \"recall\": recall,\n",
    "                                     \"f1-score\": f1\n",
    "                                  }))\n",
    "summary"
   ]
  }
 ],
 "metadata": {
  "kernelspec": {
   "display_name": "Python 3",
   "language": "python",
   "name": "python3"
  },
  "language_info": {
   "codemirror_mode": {
    "name": "ipython",
    "version": 3
   },
   "file_extension": ".py",
   "mimetype": "text/x-python",
   "name": "python",
   "nbconvert_exporter": "python",
   "pygments_lexer": "ipython3",
   "version": "3.6.9"
  }
 },
 "nbformat": 4,
 "nbformat_minor": 4
}
