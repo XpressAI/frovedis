{
 "cells": [
  {
   "cell_type": "markdown",
   "metadata": {},
   "source": [
    "# <font color='green'> Recommendation - ALS - MAP score<font>"
   ]
  },
  {
   "cell_type": "markdown",
   "metadata": {},
   "source": [
    "#### Import common libraries"
   ]
  },
  {
   "cell_type": "code",
   "execution_count": 1,
   "metadata": {},
   "outputs": [],
   "source": [
    "import time\n",
    "import pandas as pd\n",
    "import numpy as np\n",
    "import random\n",
    "import ml_metrics\n",
    "from scipy.sparse import coo_matrix"
   ]
  },
  {
   "cell_type": "markdown",
   "metadata": {},
   "source": [
    "## <font color='green'> 1. Data Preparation<font>"
   ]
  },
  {
   "cell_type": "markdown",
   "metadata": {},
   "source": [
    "#### Download and unzip data"
   ]
  },
  {
   "cell_type": "code",
   "execution_count": 2,
   "metadata": {},
   "outputs": [],
   "source": [
    "# Please uncomment the below lines to download and unzip the dataset.\n",
    "# !wget -N http://files.grouplens.org/datasets/movielens/ml-1m.zip\n",
    "# !unzip -o ml-1m.zip\n",
    "# !mv ml-1m/ratings.dat datasets/ratings_1M_down.dat"
   ]
  },
  {
   "cell_type": "markdown",
   "metadata": {},
   "source": [
    "#### Read the data"
   ]
  },
  {
   "cell_type": "code",
   "execution_count": 3,
   "metadata": {},
   "outputs": [
    {
     "data": {
      "text/plain": [
       "(1000209, 3)"
      ]
     },
     "execution_count": 3,
     "metadata": {},
     "output_type": "execute_result"
    }
   ],
   "source": [
    "df = pd.read_csv(\"./datasets/ratings_1M.dat\",\n",
    "                 sep=\"::\",\n",
    "                 engine=\"python\",\n",
    "                 usecols=[0,1,2],\n",
    "                 names=[\"userId\", \"movieId\", \"rating\"])\n",
    "df.shape"
   ]
  },
  {
   "cell_type": "markdown",
   "metadata": {},
   "source": [
    "#### Check Data Types"
   ]
  },
  {
   "cell_type": "code",
   "execution_count": 4,
   "metadata": {},
   "outputs": [
    {
     "data": {
      "text/plain": [
       "userId     int64\n",
       "movieId    int64\n",
       "rating     int64\n",
       "dtype: object"
      ]
     },
     "execution_count": 4,
     "metadata": {},
     "output_type": "execute_result"
    }
   ],
   "source": [
    "df.dtypes"
   ]
  },
  {
   "cell_type": "markdown",
   "metadata": {},
   "source": [
    "#### Check total number of users"
   ]
  },
  {
   "cell_type": "code",
   "execution_count": 5,
   "metadata": {},
   "outputs": [
    {
     "data": {
      "text/plain": [
       "6040"
      ]
     },
     "execution_count": 5,
     "metadata": {},
     "output_type": "execute_result"
    }
   ],
   "source": [
    "all_users = df.userId.unique().tolist()\n",
    "len(all_users)"
   ]
  },
  {
   "cell_type": "markdown",
   "metadata": {},
   "source": [
    "#### Collect test data"
   ]
  },
  {
   "cell_type": "code",
   "execution_count": 6,
   "metadata": {},
   "outputs": [],
   "source": [
    "test_ids = random.sample(all_users, 100)\n",
    "\n",
    "all_actual_items = []\n",
    "for user in test_ids:\n",
    "    user_actual_items = df.loc[(df[\"userId\"]==user) & (df[\"rating\"]>=3), \"movieId\"].tolist()\n",
    "    all_actual_items.append(user_actual_items)"
   ]
  },
  {
   "cell_type": "markdown",
   "metadata": {},
   "source": [
    "#### Convert the data to COO and CSR format"
   ]
  },
  {
   "cell_type": "code",
   "execution_count": 7,
   "metadata": {},
   "outputs": [
    {
     "name": "stdout",
     "output_type": "stream",
     "text": [
      "shape of the matrix is (6041, 3953)\n"
     ]
    }
   ],
   "source": [
    "userId = df['userId'].values\n",
    "movieId = df['movieId'].values\n",
    "rating = df['rating'].values\n",
    "mat = coo_matrix((rating, (userId, movieId)), dtype=np.float64)\n",
    "mat_csr = mat.tocsr()\n",
    "print (\"shape of the matrix is {}\".format(mat.shape))"
   ]
  },
  {
   "cell_type": "markdown",
   "metadata": {},
   "source": [
    "#### Helper Function"
   ]
  },
  {
   "cell_type": "code",
   "execution_count": 8,
   "metadata": {},
   "outputs": [],
   "source": [
    "def get_recommendations(handle, algo, n):\n",
    "    all_recommended_items = []\n",
    "    for user in test_ids:\n",
    "        user_recommended_items = []\n",
    "        for i in handle(user, n):\n",
    "            if algo==\"frov\":\n",
    "                item = i[0]\n",
    "            elif algo==\"spark\":\n",
    "                item = i.product\n",
    "            user_recommended_items.append(item)\n",
    "        all_recommended_items.append(user_recommended_items)\n",
    "    return all_recommended_items"
   ]
  },
  {
   "cell_type": "markdown",
   "metadata": {},
   "source": [
    "## <font color='green'> 2. Frovedis ALS<font>"
   ]
  },
  {
   "cell_type": "markdown",
   "metadata": {},
   "source": [
    "#### Import Frovedis libraries"
   ]
  },
  {
   "cell_type": "code",
   "execution_count": 9,
   "metadata": {},
   "outputs": [],
   "source": [
    "from frovedis.exrpc.server import FrovedisServer\n",
    "from frovedis.mllib.recommendation import ALS as frovALS"
   ]
  },
  {
   "cell_type": "markdown",
   "metadata": {},
   "source": [
    "#### Execute Frovedis ALS"
   ]
  },
  {
   "cell_type": "code",
   "execution_count": 10,
   "metadata": {},
   "outputs": [
    {
     "name": "stdout",
     "output_type": "stream",
     "text": [
      "Frovedis Train Time =  2.8071365356445312\n",
      "Frovedis MAP Score =  0.48624484126984124\n"
     ]
    }
   ],
   "source": [
    "# Initializing Frovedis server \n",
    "FrovedisServer.initialize(\"mpirun -np 8 \" + os.environ[\"FROVEDIS_SERVER\"])\n",
    "\n",
    "# start timer\n",
    "start_time = time.time()\n",
    "\n",
    "# fitting the input matrix on a ALS object\n",
    "als = frovALS(max_iter=30, regParam=0.01).fit(mat_csr, rank=4)\n",
    "\n",
    "# end timer\n",
    "frov_time = time.time() - start_time\n",
    "\n",
    "# recommend 10 items for all test user\n",
    "all_recommended_items = get_recommendations(als.recommend_products, \"frov\", 10)\n",
    "    \n",
    "# calculate MAP metrics\n",
    "frov_score = ml_metrics.mapk(all_actual_items, all_recommended_items, 10)\n",
    "\n",
    "# print time and score\n",
    "print(\"Frovedis Train Time = \", frov_time)\n",
    "print(\"Frovedis MAP Score = \", frov_score)\n",
    "\n",
    "als.release()\n",
    "FrovedisServer.shut_down()"
   ]
  },
  {
   "cell_type": "markdown",
   "metadata": {},
   "source": [
    "## <font color='green'> 3. Pyspark ALS<font>"
   ]
  },
  {
   "cell_type": "markdown",
   "metadata": {},
   "source": [
    "#### Import Pyspark libraries"
   ]
  },
  {
   "cell_type": "code",
   "execution_count": 11,
   "metadata": {},
   "outputs": [],
   "source": [
    "import findspark\n",
    "findspark.init()\n",
    "import pyspark\n",
    "from pyspark.mllib.recommendation import ALS as pyspark_als"
   ]
  },
  {
   "cell_type": "markdown",
   "metadata": {},
   "source": [
    "#### Create pyspark context"
   ]
  },
  {
   "cell_type": "code",
   "execution_count": 12,
   "metadata": {},
   "outputs": [],
   "source": [
    "sc = pyspark.SparkContext(master=\"local[12]\", appName=\"als\")"
   ]
  },
  {
   "cell_type": "markdown",
   "metadata": {},
   "source": [
    "#### Create a pyspark RDD"
   ]
  },
  {
   "cell_type": "code",
   "execution_count": 13,
   "metadata": {},
   "outputs": [
    {
     "data": {
      "text/plain": [
       "12"
      ]
     },
     "execution_count": 13,
     "metadata": {},
     "output_type": "execute_result"
    }
   ],
   "source": [
    "ratingsRDD = sc.parallelize(zip(mat.row, mat.col, mat.data))\n",
    "ratingsRDD.getNumPartitions()"
   ]
  },
  {
   "cell_type": "markdown",
   "metadata": {},
   "source": [
    "#### Execute Pyspark ALS"
   ]
  },
  {
   "cell_type": "code",
   "execution_count": 14,
   "metadata": {},
   "outputs": [
    {
     "name": "stdout",
     "output_type": "stream",
     "text": [
      "Pyspark Train Time =  7.290646314620972\n",
      "Pyspark MAP Score =  0.48277698412698405\n"
     ]
    }
   ],
   "source": [
    "try:\n",
    "    # start timer\n",
    "    start_time = time.time()\n",
    "\n",
    "    # fitting on the pyspark ALS\n",
    "    model = pyspark_als.trainImplicit(ratingsRDD, rank=4, iterations=30, lambda_=0.01)\n",
    "\n",
    "    # stop timer\n",
    "    sp_time = time.time() - start_time\n",
    "\n",
    "    # recommend 10 items for all test user\n",
    "    all_recommended_items = get_recommendations(model.recommendProducts, \"spark\", 10)\n",
    "\n",
    "    # calculate MAP metrics\n",
    "    sp_score = ml_metrics.mapk(all_actual_items, all_recommended_items, 10)\n",
    "\n",
    "    # print time and score\n",
    "    print(\"Pyspark Train Time = \", sp_time)\n",
    "    print(\"Pyspark MAP Score = \", sp_score)\n",
    "    \n",
    "finally:\n",
    "    sc.stop()"
   ]
  },
  {
   "cell_type": "markdown",
   "metadata": {},
   "source": [
    "### 3.0 Results Comparison"
   ]
  },
  {
   "cell_type": "markdown",
   "metadata": {},
   "source": [
    "#### Time"
   ]
  },
  {
   "cell_type": "code",
   "execution_count": 15,
   "metadata": {},
   "outputs": [
    {
     "name": "stdout",
     "output_type": "stream",
     "text": [
      "frovedis training time :  2.8071365356445312\n",
      "pyspark training time :  7.290646314620972\n"
     ]
    }
   ],
   "source": [
    "print(\"frovedis training time : \", frov_time)\n",
    "print(\"pyspark training time : \", sp_time)"
   ]
  },
  {
   "cell_type": "markdown",
   "metadata": {},
   "source": [
    "#### Score"
   ]
  },
  {
   "cell_type": "code",
   "execution_count": 16,
   "metadata": {},
   "outputs": [
    {
     "name": "stdout",
     "output_type": "stream",
     "text": [
      "frovedis MAP score :  0.48624484126984124\n",
      "pyspark MAP score :  0.48277698412698405\n"
     ]
    }
   ],
   "source": [
    "print(\"frovedis MAP score : \", frov_score)\n",
    "print(\"pyspark MAP score : \", sp_score)"
   ]
  }
 ],
 "metadata": {
  "kernelspec": {
   "display_name": "Python 3",
   "language": "python",
   "name": "python3"
  },
  "language_info": {
   "codemirror_mode": {
    "name": "ipython",
    "version": 3
   },
   "file_extension": ".py",
   "mimetype": "text/x-python",
   "name": "python",
   "nbconvert_exporter": "python",
   "pygments_lexer": "ipython3",
   "version": "3.6.9"
  }
 },
 "nbformat": 4,
 "nbformat_minor": 4
}
