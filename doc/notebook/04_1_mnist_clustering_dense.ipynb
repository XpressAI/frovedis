{
 "cells": [
  {
   "cell_type": "markdown",
   "metadata": {},
   "source": [
    "## <font color='green'> MNIST - Clustering (Dense Matrix)<font>"
   ]
  },
  {
   "cell_type": "markdown",
   "metadata": {},
   "source": [
    "### <font color='green'> 1. Description<font>\n",
    "\n",
    "Clustering using MNIST Digit Recognition dataset.\n",
    "Dataset is downloaded from tensorflow by using `tensorflow.keras.datasets.mnist.load_data()` method; so please install tensorflow.\n",
    "\n",
    "The MNIST database (Modified National Institute of Standards and Technology database) is a large database of handwritten digits that is commonly used for training various image processing systems. In this demo we will use this dataset to correctly cluster similar digits."
   ]
  },
  {
   "cell_type": "markdown",
   "metadata": {},
   "source": [
    "### <font color='green'> 2. Data Preprocessing<font>\n",
    "\n",
    "For MNIST Digits dataset we will perform some data preparation and data cleaning steps."
   ]
  },
  {
   "cell_type": "code",
   "execution_count": 1,
   "metadata": {},
   "outputs": [],
   "source": [
    "%%capture\n",
    "import os\n",
    "import time\n",
    "import pandas as pd\n",
    "import numpy as np\n",
    "import tensorflow as tf\n",
    "from sklearn import metrics\n",
    "from collections import OrderedDict"
   ]
  },
  {
   "cell_type": "code",
   "execution_count": 2,
   "metadata": {},
   "outputs": [],
   "source": [
    "def preprocess_data():\n",
    "    '''\n",
    "    Load the mnist data and perform pre-processing\n",
    "    '''\n",
    "    # Load MNIST Digits dataset\n",
    "    (x_train, y_train), (x_test, y_test) = tf.keras.datasets.mnist.load_data()\n",
    "    x = np.concatenate((x_train, x_test))\n",
    "    y = np.concatenate((y_train, y_test))\n",
    "    x = x.reshape((x.shape[0], -1)).astype('float32')\n",
    "    x = np.divide(x, 255.)\n",
    "    return x, y"
   ]
  },
  {
   "cell_type": "code",
   "execution_count": 3,
   "metadata": {},
   "outputs": [
    {
     "name": "stdout",
     "output_type": "stream",
     "text": [
      "Dataset contains (70000, 784) samples\n",
      "Dataset contains 10 classes\n"
     ]
    }
   ],
   "source": [
    "#---- Data Loading and Preparation ----\n",
    "\n",
    "X, y = preprocess_data()\n",
    "n_clusters = len(np.unique(y))\n",
    "print(\"Dataset contains {} samples\".format(X.shape))\n",
    "print(\"Dataset contains {} classes\".format(n_clusters))"
   ]
  },
  {
   "cell_type": "code",
   "execution_count": 4,
   "metadata": {},
   "outputs": [
    {
     "data": {
      "image/png": "[encoded data removed]",
      "text/plain": [
       "<Figure size 432x288 with 1 Axes>"
      ]
     },
     "metadata": {
      "needs_background": "light"
     },
     "output_type": "display_data"
    }
   ],
   "source": [
    "# Label distribution summary\n",
    "import matplotlib.pyplot as plt\n",
    "val, count = np.unique(y, return_counts=True)\n",
    "label = np.asarray((val, count)).T\n",
    "labels_df = pd.DataFrame(data=label)\n",
    "ax = labels_df[1].plot(kind='bar', title='Label Distribution').\\\n",
    "     set(xlabel=\"Digit\", ylabel=\"Count of digit images\")"
   ]
  },
  {
   "cell_type": "code",
   "execution_count": 5,
   "metadata": {},
   "outputs": [
    {
     "data": {
      "image/png": "[encoded data removed]",
      "text/plain": [
       "<Figure size 432x288 with 1 Axes>"
      ]
     },
     "metadata": {
      "needs_background": "light"
     },
     "output_type": "display_data"
    },
    {
     "data": {
      "image/png": "[encoded data removed]",
      "text/plain": [
       "<Figure size 432x288 with 1 Axes>"
      ]
     },
     "metadata": {
      "needs_background": "light"
     },
     "output_type": "display_data"
    }
   ],
   "source": [
    "plt.imshow(X[0].reshape(28, 28), cmap = 'binary')\n",
    "plt.title('Digit Label = {}'.format(y[0]))\n",
    "plt.show()\n",
    "plt.imshow(X[1000].reshape(28, 28), cmap = 'magma')\n",
    "plt.title('Digit Label = {}'.format(y[1000]))\n",
    "plt.show()"
   ]
  },
  {
   "cell_type": "markdown",
   "metadata": {},
   "source": [
    "### <font color='green'> 3. Algorithm Evaluation<font>"
   ]
  },
  {
   "cell_type": "code",
   "execution_count": 6,
   "metadata": {},
   "outputs": [],
   "source": [
    "train_time = []\n",
    "homogeneity = []\n",
    "algo = []\n",
    "ml_framework = []"
   ]
  },
  {
   "cell_type": "code",
   "execution_count": 7,
   "metadata": {},
   "outputs": [],
   "source": [
    "def evaluate(estimator, algo_nm, framework_nm, X, y):\n",
    "    '''\n",
    "    To generate performance report for both frovedis and sklearn estimators\n",
    "    '''\n",
    "    algo.append(algo_nm)\n",
    "    ml_framework.append(framework_nm)\n",
    "    \n",
    "    start_time = time.time()\n",
    "    y_pred = estimator.fit_predict(X)\n",
    "    train_time.append(round(time.time() - start_time, 4))\n",
    "\n",
    "    homogeneity.append(metrics.homogeneity_score(y, y_pred))"
   ]
  },
  {
   "cell_type": "markdown",
   "metadata": {},
   "source": [
    "#### 3.1 KMeans Clustering"
   ]
  },
  {
   "cell_type": "code",
   "execution_count": 8,
   "metadata": {},
   "outputs": [
    {
     "name": "stdout",
     "output_type": "stream",
     "text": [
      "Frovedis KMeans train time: 7.567 sec\n"
     ]
    },
    {
     "name": "stderr",
     "output_type": "stream",
     "text": [
      "/home/souravs/pyenv_frov/lib64/python3.6/site-packages/sklearn/cluster/_kmeans.py:793: FutureWarning: 'n_jobs' was deprecated in version 0.23 and will be removed in 1.0 (renaming of 0.25).\n",
      "  \" removed in 1.0 (renaming of 0.25).\", FutureWarning)\n"
     ]
    },
    {
     "name": "stdout",
     "output_type": "stream",
     "text": [
      "scikit-learn KMeans train time: 8.565 sec\n"
     ]
    }
   ],
   "source": [
    "#Demo: KMeans Clustering\n",
    "import frovedis\n",
    "TARGET = \"kmeans\"\n",
    "from frovedis.exrpc.server import FrovedisServer\n",
    "FrovedisServer.initialize(\"mpirun -np 8 \" + os.environ[\"FROVEDIS_SERVER\"])\n",
    "from frovedis.mllib.cluster import KMeans as frovKM\n",
    "f_est = frovKM(n_clusters=n_clusters, init='random', algorithm='full')\n",
    "evaluate(f_est, TARGET, \"frov_\" + frovedis.__version__, X, y)\n",
    "f_est.release()\n",
    "FrovedisServer.shut_down()\n",
    "print(\"Frovedis KMeans train time: %.3f sec\" % train_time[0])\n",
    "\n",
    "import sklearn\n",
    "from sklearn.cluster import KMeans as skKM\n",
    "s_est = skKM(n_clusters=n_clusters, init='random', algorithm='full', n_jobs=12)\n",
    "evaluate(s_est, TARGET, \"skl_\" + sklearn.__version__, X, y)\n",
    "print(\"scikit-learn KMeans train time: %.3f sec\" % train_time[1])"
   ]
  },
  {
   "cell_type": "markdown",
   "metadata": {},
   "source": [
    "#### 3.2 Agglomerative Clustering"
   ]
  },
  {
   "cell_type": "code",
   "execution_count": 9,
   "metadata": {},
   "outputs": [
    {
     "name": "stdout",
     "output_type": "stream",
     "text": [
      "Frovedis AgglomerativeClustering train time: 16.631 sec\n",
      "scikit-learn AgglomerativeClustering train time: 309.842 sec\n"
     ]
    }
   ],
   "source": [
    "#Demo: Agglomerative Clustering\n",
    "import frovedis\n",
    "TARGET = \"agglomerative\"\n",
    "from frovedis.exrpc.server import FrovedisServer\n",
    "FrovedisServer.initialize(\"mpirun -np 8 \" + os.environ[\"FROVEDIS_SERVER\"] )\n",
    "from frovedis.mllib.cluster import AgglomerativeClustering as frovAgglomerative\n",
    "\n",
    "# for Agglomerative performed PCA decomposition\n",
    "from frovedis.mllib.decomposition import PCA\n",
    "x_pca = PCA(n_components=100).fit_transform(X)\n",
    "\n",
    "f_est = frovAgglomerative(n_clusters=n_clusters, linkage=\"average\")\n",
    "evaluate(f_est, TARGET, \"frov_\" + frovedis.__version__, x_pca, y)\n",
    "f_est.release()\n",
    "FrovedisServer.shut_down()\n",
    "print(\"Frovedis AgglomerativeClustering train time: %.3f sec\" % train_time[2])\n",
    "\n",
    "import sklearn\n",
    "from sklearn.cluster import AgglomerativeClustering as skAgglomerative\n",
    "s_est = skAgglomerative(n_clusters=n_clusters, linkage=\"average\")\n",
    "evaluate(s_est, TARGET, \"skl_\" + sklearn.__version__, x_pca, y) \n",
    "print(\"scikit-learn AgglomerativeClustering train time: %.3f sec\" % train_time[3])"
   ]
  },
  {
   "cell_type": "markdown",
   "metadata": {},
   "source": [
    "#### 3.3 DBSCAN Clustering"
   ]
  },
  {
   "cell_type": "code",
   "execution_count": 10,
   "metadata": {},
   "outputs": [
    {
     "name": "stdout",
     "output_type": "stream",
     "text": [
      "Frovedis DBSCAN train time: 1.592 sec\n",
      "scikit-learn DBSCAN train time: 45.188 sec\n"
     ]
    }
   ],
   "source": [
    "#Demo: DBSCAN Clustering\n",
    "import frovedis\n",
    "TARGET = \"dbscan\"\n",
    "from frovedis.exrpc.server import FrovedisServer\n",
    "FrovedisServer.initialize(\"mpirun -np 8 \" + os.environ[\"FROVEDIS_SERVER\"] )\n",
    "from frovedis.mllib.cluster import DBSCAN as frovDB\n",
    "f_est = frovDB(eps=4.52, metric=\"euclidean\", algorithm=\"brute\")\n",
    "\n",
    "# we are evaluating DBSCAN with first 50k samples due to memeory issue at Frovedis Server when trying with full data \n",
    "evaluate(f_est, TARGET, \"frov_\" + frovedis.__version__, X[:50000,:], y[:50000])  \n",
    "f_est.release()\n",
    "FrovedisServer.shut_down()\n",
    "print(\"Frovedis DBSCAN train time: %.3f sec\" % train_time[4])\n",
    "\n",
    "import sklearn\n",
    "from sklearn.cluster import DBSCAN as skDB\n",
    "s_est = skDB(eps=4.52, metric=\"euclidean\", algorithm=\"brute\", n_jobs=12)\n",
    "evaluate(s_est, TARGET, \"skl_\" + sklearn.__version__, X[:50000,:], y[:50000]) \n",
    "print(\"scikit-learn DBSCAN train time: %.3f sec\" % train_time[5])"
   ]
  },
  {
   "cell_type": "markdown",
   "metadata": {},
   "source": [
    "### <font color='green'> 4. Performance summary<font>"
   ]
  },
  {
   "cell_type": "code",
   "execution_count": 11,
   "metadata": {},
   "outputs": [
    {
     "data": {
      "text/html": [
       "<div>\n",
       "<style scoped>\n",
       "    .dataframe tbody tr th:only-of-type {\n",
       "        vertical-align: middle;\n",
       "    }\n",
       "\n",
       "    .dataframe tbody tr th {\n",
       "        vertical-align: top;\n",
       "    }\n",
       "\n",
       "    .dataframe thead th {\n",
       "        text-align: right;\n",
       "    }\n",
       "</style>\n",
       "<table border=\"1\" class=\"dataframe\">\n",
       "  <thead>\n",
       "    <tr style=\"text-align: right;\">\n",
       "      <th></th>\n",
       "      <th></th>\n",
       "      <th>train time (sec)</th>\n",
       "      <th>homogeneity_score</th>\n",
       "    </tr>\n",
       "    <tr>\n",
       "      <th>algorithm</th>\n",
       "      <th>ml-framework</th>\n",
       "      <th></th>\n",
       "      <th></th>\n",
       "    </tr>\n",
       "  </thead>\n",
       "  <tbody>\n",
       "    <tr>\n",
       "      <th rowspan=\"2\" valign=\"top\">kmeans</th>\n",
       "      <th>frov_0.9.10</th>\n",
       "      <td>7.5666</td>\n",
       "      <td>0.496022</td>\n",
       "    </tr>\n",
       "    <tr>\n",
       "      <th>skl_0.24.1</th>\n",
       "      <td>8.5647</td>\n",
       "      <td>0.483880</td>\n",
       "    </tr>\n",
       "    <tr>\n",
       "      <th rowspan=\"2\" valign=\"top\">agglomerative</th>\n",
       "      <th>frov_0.9.10</th>\n",
       "      <td>16.6309</td>\n",
       "      <td>0.163916</td>\n",
       "    </tr>\n",
       "    <tr>\n",
       "      <th>skl_0.24.1</th>\n",
       "      <td>309.8419</td>\n",
       "      <td>0.163916</td>\n",
       "    </tr>\n",
       "    <tr>\n",
       "      <th rowspan=\"2\" valign=\"top\">dbscan</th>\n",
       "      <th>frov_0.9.10</th>\n",
       "      <td>1.5917</td>\n",
       "      <td>0.185969</td>\n",
       "    </tr>\n",
       "    <tr>\n",
       "      <th>skl_0.24.1</th>\n",
       "      <td>45.1879</td>\n",
       "      <td>0.185466</td>\n",
       "    </tr>\n",
       "  </tbody>\n",
       "</table>\n",
       "</div>"
      ],
      "text/plain": [
       "                            train time (sec)  homogeneity_score\n",
       "algorithm     ml-framework                                     \n",
       "kmeans        frov_0.9.10             7.5666           0.496022\n",
       "              skl_0.24.1              8.5647           0.483880\n",
       "agglomerative frov_0.9.10            16.6309           0.163916\n",
       "              skl_0.24.1            309.8419           0.163916\n",
       "dbscan        frov_0.9.10             1.5917           0.185969\n",
       "              skl_0.24.1             45.1879           0.185466"
      ]
     },
     "execution_count": 11,
     "metadata": {},
     "output_type": "execute_result"
    }
   ],
   "source": [
    "index = pd.MultiIndex.from_tuples(list(zip(algo, ml_framework)), \n",
    "                                  names=[\"algorithm\", \"ml-framework\"])\n",
    "summary = pd.DataFrame(OrderedDict({ \"train time (sec)\": train_time, \n",
    "                                     \"homogeneity_score\": homogeneity\n",
    "                                  }), index=index)\n",
    "summary"
   ]
  },
  {
   "cell_type": "code",
   "execution_count": 12,
   "metadata": {},
   "outputs": [
    {
     "data": {
      "image/png": "[encoded data removed]",
      "text/plain": [
       "<Figure size 720x360 with 1 Axes>"
      ]
     },
     "metadata": {
      "needs_background": "light"
     },
     "output_type": "display_data"
    }
   ],
   "source": [
    "train_graph = summary.plot.bar(y=0, rot=45, figsize=(10,5), log=True, colormap=\"PiYG\", \\\n",
    "                               xlabel=\"frovedis vs sklearn clustering algorithm performance\")"
   ]
  },
  {
   "cell_type": "code",
   "execution_count": 13,
   "metadata": {},
   "outputs": [
    {
     "data": {
      "image/png": "[encoded data removed]",
      "text/plain": [
       "<Figure size 720x360 with 1 Axes>"
      ]
     },
     "metadata": {
      "needs_background": "light"
     },
     "output_type": "display_data"
    }
   ],
   "source": [
    "score_graph = summary.plot.bar(y=1, rot=45, figsize=(10,5), colormap=\"PuOr\", \\\n",
    "                              xlabel=\"frovedis vs sklearn clustering algorithm score\")"
   ]
  }
 ],
 "metadata": {
  "kernelspec": {
   "display_name": "Python 3",
   "language": "python",
   "name": "python3"
  },
  "language_info": {
   "codemirror_mode": {
    "name": "ipython",
    "version": 3
   },
   "file_extension": ".py",
   "mimetype": "text/x-python",
   "name": "python",
   "nbconvert_exporter": "python",
   "pygments_lexer": "ipython3",
   "version": "3.6.9"
  }
 },
 "nbformat": 4,
 "nbformat_minor": 4
}
