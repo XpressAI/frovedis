{
 "cells": [
  {
   "cell_type": "markdown",
   "metadata": {},
   "source": [
    "### <font color='green'>1. Description<font>\n",
    "\n",
    "Click though rate prediction using logistic regression. Please download the data from https://www.kaggle.com/c/avazu-ctr-prediction/ manually (registration required) and place `CTR_train` file in `datasets` directory. Only part of the data is used, because it takes too large memory for one VE card.\n",
    "\n",
    "In online advertising, click-through rate (CTR) is a very important metric for evaluating ad performance. As a result, click prediction systems are essential and widely used for sponsored search and real-time bidding. This data is 11 days worth of Avazu data to build and test prediction models."
   ]
  },
  {
   "cell_type": "markdown",
   "metadata": {},
   "source": [
    "### <font color='green'>2. Data Preprocessing<font>\n",
    "\n",
    "For CTR classification we will perform some data preparation and data cleaning steps. We will generate feature vectors using sklearn TF-IDF for review text."
   ]
  },
  {
   "cell_type": "code",
   "execution_count": 1,
   "metadata": {},
   "outputs": [],
   "source": [
    "import os\n",
    "import time\n",
    "import pandas as pd\n",
    "from collections import OrderedDict\n",
    "from sklearn import metrics\n",
    "from sklearn.preprocessing import OneHotEncoder\n",
    "from sklearn.model_selection import train_test_split\n",
    "import seaborn as sns"
   ]
  },
  {
   "cell_type": "code",
   "execution_count": 2,
   "metadata": {},
   "outputs": [],
   "source": [
    "def preprocess_data(fname):\n",
    "    '''\n",
    "    For CTR classification we will perform some data preparation and data cleaning steps.\n",
    "    '''\n",
    "    #Sample size of 1 million has been taken for execution from CTR dataset\n",
    "    n_rows =  800000\n",
    "    df = pd.read_csv(fname, nrows=n_rows)\n",
    "    class_names = {0:'Not click', 1:'Click'}\n",
    "    print(df.click.value_counts().rename(index = class_names))\n",
    "    # We dropped 'click', 'id', 'hour', 'device_id', 'device_ip' from the dataset,\n",
    "    # which does not contribute the prediction.\n",
    "    x = df.drop(['click', 'id', 'hour', 'device_id', 'device_ip'], axis=1).values\n",
    "    y = df['click'].values\n",
    "    n_rows = df.shape[0]\n",
    "    x_train, x_test, y_train, y_test = train_test_split(x,y, test_size = 0.05)\n",
    "    # Other features are one-hot encoded; so the feature matrix becomes sparse matrix\n",
    "    enc = OneHotEncoder(handle_unknown='ignore')\n",
    "    x_train_enc = enc.fit_transform(x_train)\n",
    "    x_test_enc = enc.transform(x_test)\n",
    "    return x_train_enc, x_test_enc, y_train, y_test"
   ]
  },
  {
   "cell_type": "code",
   "execution_count": 3,
   "metadata": {},
   "outputs": [
    {
     "name": "stdout",
     "output_type": "stream",
     "text": [
      "Not click    669744\n",
      "Click        130256\n",
      "Name: click, dtype: int64\n",
      "shape of train data: (760000, 11452)\n",
      "shape of test data: (40000, 11452)\n"
     ]
    }
   ],
   "source": [
    "#---- Data Preparation ----\n",
    "\n",
    "DATA_FILE = \"datasets/ctr_train.csv\"\n",
    "x_train, x_test, y_train, y_test = preprocess_data(DATA_FILE)\n",
    "print(\"shape of train data: {}\".format(x_train.shape))\n",
    "print(\"shape of test data: {}\".format(x_test.shape))"
   ]
  },
  {
   "cell_type": "code",
   "execution_count": 4,
   "metadata": {},
   "outputs": [
    {
     "data": {
      "text/plain": [
       "<AxesSubplot:ylabel='count'>"
      ]
     },
     "execution_count": 4,
     "metadata": {},
     "output_type": "execute_result"
    },
    {
     "data": {
      "image/png": "[encoded data removed]",
      "text/plain": [
       "<Figure size 432x288 with 1 Axes>"
      ]
     },
     "metadata": {
      "needs_background": "light"
     },
     "output_type": "display_data"
    }
   ],
   "source": [
    "sns.countplot(y_train)"
   ]
  },
  {
   "cell_type": "markdown",
   "metadata": {},
   "source": [
    "### <font color='green'>3. Algorithm Evaluation<font>"
   ]
  },
  {
   "cell_type": "code",
   "execution_count": 5,
   "metadata": {},
   "outputs": [],
   "source": [
    "train_time = []\n",
    "test_time = []\n",
    "accuracy = []\n",
    "precision = []\n",
    "recall = []\n",
    "f1 = []\n",
    "estimator_name = []"
   ]
  },
  {
   "cell_type": "code",
   "execution_count": 6,
   "metadata": {},
   "outputs": [],
   "source": [
    "def evaluate(estimator, estimator_nm, \n",
    "             x_train, y_train,\n",
    "             x_test, y_test):\n",
    "    '''\n",
    "    To generate performance report for both frovedis and sklearn estimators\n",
    "    '''\n",
    "    estimator_name.append(estimator_nm)\n",
    "    start_time = time.time()\n",
    "    estimator.fit(x_train, y_train)\n",
    "    train_time.append(round(time.time() - start_time, 4))\n",
    "\n",
    "    start_time = time.time()\n",
    "    pred_y = estimator.predict(x_test)\n",
    "    test_time.append(round(time.time() - start_time, 4))\n",
    "    accuracy.append(metrics.accuracy_score(y_test, pred_y))\n",
    "    precision.append(metrics.precision_score(y_test, pred_y))\n",
    "    recall.append(metrics.recall_score(y_test, pred_y))\n",
    "    f1.append(metrics.f1_score(y_test, pred_y))\n",
    "    return metrics.classification_report(y_test, pred_y)"
   ]
  },
  {
   "cell_type": "markdown",
   "metadata": {},
   "source": [
    "#### 3.1 Binary LogisticRegression with sag solver"
   ]
  },
  {
   "cell_type": "code",
   "execution_count": 7,
   "metadata": {},
   "outputs": [
    {
     "name": "stdout",
     "output_type": "stream",
     "text": [
      "Frovedis LogisticRegression matrices: \n",
      "              precision    recall  f1-score   support\n",
      "\n",
      "           0       0.86      0.97      0.91     33473\n",
      "           1       0.52      0.16      0.25      6527\n",
      "\n",
      "    accuracy                           0.84     40000\n",
      "   macro avg       0.69      0.57      0.58     40000\n",
      "weighted avg       0.80      0.84      0.80     40000\n",
      "\n",
      "Sklearn LogisticRegression matrices: \n",
      "              precision    recall  f1-score   support\n",
      "\n",
      "           0       0.85      0.98      0.91     33473\n",
      "           1       0.52      0.11      0.18      6527\n",
      "\n",
      "    accuracy                           0.84     40000\n",
      "   macro avg       0.69      0.55      0.55     40000\n",
      "weighted avg       0.80      0.84      0.79     40000\n",
      "\n"
     ]
    }
   ],
   "source": [
    "#Demo: Binary Logistic Regression with sag solver\n",
    "\n",
    "import frovedis\n",
    "TARGET = \"binary_logistic_regression_sag\"\n",
    "from frovedis.exrpc.server import FrovedisServer\n",
    "FrovedisServer.initialize(\"mpirun -np 8 \" + os.environ[\"FROVEDIS_SERVER\"])\n",
    "from frovedis.mllib.linear_model import LogisticRegression as frovLogisticRegression\n",
    "f_est = frovLogisticRegression(penalty='l2', solver='sag')\n",
    "E_NM = TARGET + \"_frovedis_\" + frovedis.__version__\n",
    "f_report = evaluate(f_est, E_NM, \\\n",
    "                    x_train, y_train, x_test, y_test)\n",
    "f_est.release()\n",
    "FrovedisServer.shut_down()\n",
    "\n",
    "import sklearn\n",
    "from sklearn.linear_model import LogisticRegression as skLogisticRegression\n",
    "s_est = skLogisticRegression(penalty='l2', solver='sag')\n",
    "E_NM = TARGET + \"_sklearn_\" + sklearn.__version__\n",
    "s_report = evaluate(s_est, E_NM, \\\n",
    "                    x_train, y_train, x_test, y_test)\n",
    "\n",
    "print(\"Frovedis LogisticRegression matrices: \")\n",
    "print(f_report)\n",
    "print(\"Sklearn LogisticRegression matrices: \")\n",
    "print(s_report)"
   ]
  },
  {
   "cell_type": "markdown",
   "metadata": {},
   "source": [
    "#### 3.2 Linear SVC"
   ]
  },
  {
   "cell_type": "code",
   "execution_count": 8,
   "metadata": {},
   "outputs": [
    {
     "name": "stdout",
     "output_type": "stream",
     "text": [
      "Frovedis Linear SVC metrices: \n",
      "              precision    recall  f1-score   support\n",
      "\n",
      "           0       0.84      0.99      0.91     33473\n",
      "           1       0.57      0.04      0.08      6527\n",
      "\n",
      "    accuracy                           0.84     40000\n",
      "   macro avg       0.70      0.52      0.50     40000\n",
      "weighted avg       0.80      0.84      0.78     40000\n",
      "\n",
      "Sklearn Linear SVC metrices: \n",
      "              precision    recall  f1-score   support\n",
      "\n",
      "           0       0.85      0.98      0.91     33473\n",
      "           1       0.53      0.12      0.19      6527\n",
      "\n",
      "    accuracy                           0.84     40000\n",
      "   macro avg       0.69      0.55      0.55     40000\n",
      "weighted avg       0.80      0.84      0.79     40000\n",
      "\n"
     ]
    },
    {
     "name": "stderr",
     "output_type": "stream",
     "text": [
      "/home/adityaw/virt1/lib64/python3.6/site-packages/sklearn/svm/_base.py:986: ConvergenceWarning: Liblinear failed to converge, increase the number of iterations.\n",
      "  \"the number of iterations.\", ConvergenceWarning)\n"
     ]
    }
   ],
   "source": [
    "# Demo: Linear SVC\n",
    "\n",
    "import frovedis\n",
    "TARGET = \"Linear_SVC\"\n",
    "from frovedis.exrpc.server import FrovedisServer\n",
    "FrovedisServer.initialize(\"mpirun -np 8 \" + os.environ[\"FROVEDIS_SERVER\"])\n",
    "from frovedis.mllib.svm import LinearSVC as frovSVC\n",
    "\n",
    "f_est = frovSVC(loss='hinge', max_iter=10000)\n",
    "E_NM = TARGET + \"_frovedis_\" + frovedis.__version__\n",
    "f_report = evaluate(f_est, E_NM, \\\n",
    "                    x_train, y_train, x_test, y_test)\n",
    "f_est.release()\n",
    "FrovedisServer.shut_down()\n",
    "\n",
    "import sklearn\n",
    "from sklearn.svm import LinearSVC as skSVC\n",
    "s_est = skSVC(loss='hinge', max_iter=10000)\n",
    "E_NM = TARGET + \"_sklearn_\" + sklearn.__version__\n",
    "s_report = evaluate(s_est, E_NM, \\\n",
    "                    x_train, y_train, x_test, y_test)\n",
    "\n",
    "# SVC: Precision, Recall and F1 score for each class\n",
    "print(\"Frovedis Linear SVC metrices: \")\n",
    "print(f_report)\n",
    "print(\"Sklearn Linear SVC metrices: \")\n",
    "print(s_report)"
   ]
  },
  {
   "cell_type": "markdown",
   "metadata": {},
   "source": [
    "### 4. Performance summary"
   ]
  },
  {
   "cell_type": "code",
   "execution_count": 9,
   "metadata": {},
   "outputs": [
    {
     "data": {
      "text/html": [
       "<div>\n",
       "<style scoped>\n",
       "    .dataframe tbody tr th:only-of-type {\n",
       "        vertical-align: middle;\n",
       "    }\n",
       "\n",
       "    .dataframe tbody tr th {\n",
       "        vertical-align: top;\n",
       "    }\n",
       "\n",
       "    .dataframe thead th {\n",
       "        text-align: right;\n",
       "    }\n",
       "</style>\n",
       "<table border=\"1\" class=\"dataframe\">\n",
       "  <thead>\n",
       "    <tr style=\"text-align: right;\">\n",
       "      <th></th>\n",
       "      <th>estimator</th>\n",
       "      <th>train time</th>\n",
       "      <th>test time</th>\n",
       "      <th>accuracy</th>\n",
       "      <th>precision</th>\n",
       "      <th>recall</th>\n",
       "      <th>f1-score</th>\n",
       "    </tr>\n",
       "  </thead>\n",
       "  <tbody>\n",
       "    <tr>\n",
       "      <th>0</th>\n",
       "      <td>binary_logistic_regression_sag_frovedis_0.9.10</td>\n",
       "      <td>1.7105</td>\n",
       "      <td>0.0586</td>\n",
       "      <td>0.838925</td>\n",
       "      <td>0.520388</td>\n",
       "      <td>0.164241</td>\n",
       "      <td>0.249680</td>\n",
       "    </tr>\n",
       "    <tr>\n",
       "      <th>1</th>\n",
       "      <td>binary_logistic_regression_sag_sklearn_0.24.1</td>\n",
       "      <td>18.8960</td>\n",
       "      <td>0.0287</td>\n",
       "      <td>0.838425</td>\n",
       "      <td>0.523358</td>\n",
       "      <td>0.109851</td>\n",
       "      <td>0.181588</td>\n",
       "    </tr>\n",
       "    <tr>\n",
       "      <th>2</th>\n",
       "      <td>Linear_SVC_frovedis_0.9.10</td>\n",
       "      <td>13.6409</td>\n",
       "      <td>0.0616</td>\n",
       "      <td>0.838475</td>\n",
       "      <td>0.566000</td>\n",
       "      <td>0.043358</td>\n",
       "      <td>0.080546</td>\n",
       "    </tr>\n",
       "    <tr>\n",
       "      <th>3</th>\n",
       "      <td>Linear_SVC_sklearn_0.24.1</td>\n",
       "      <td>1941.1949</td>\n",
       "      <td>0.0287</td>\n",
       "      <td>0.838850</td>\n",
       "      <td>0.527759</td>\n",
       "      <td>0.117972</td>\n",
       "      <td>0.192837</td>\n",
       "    </tr>\n",
       "  </tbody>\n",
       "</table>\n",
       "</div>"
      ],
      "text/plain": [
       "                                        estimator  train time  test time  \\\n",
       "0  binary_logistic_regression_sag_frovedis_0.9.10      1.7105     0.0586   \n",
       "1   binary_logistic_regression_sag_sklearn_0.24.1     18.8960     0.0287   \n",
       "2                      Linear_SVC_frovedis_0.9.10     13.6409     0.0616   \n",
       "3                       Linear_SVC_sklearn_0.24.1   1941.1949     0.0287   \n",
       "\n",
       "   accuracy  precision    recall  f1-score  \n",
       "0  0.838925   0.520388  0.164241  0.249680  \n",
       "1  0.838425   0.523358  0.109851  0.181588  \n",
       "2  0.838475   0.566000  0.043358  0.080546  \n",
       "3  0.838850   0.527759  0.117972  0.192837  "
      ]
     },
     "execution_count": 9,
     "metadata": {},
     "output_type": "execute_result"
    }
   ],
   "source": [
    "# ---- evaluation summary ----\n",
    "summary = pd.DataFrame(OrderedDict({ \"estimator\": estimator_name,\n",
    "                                     \"train time\": train_time,\n",
    "                                     \"test time\": test_time,\n",
    "                                     \"accuracy\": accuracy,\n",
    "                                     \"precision\": precision,\n",
    "                                     \"recall\": recall,\n",
    "                                     \"f1-score\": f1\n",
    "                                  }))\n",
    "summary"
   ]
  }
 ],
 "metadata": {
  "kernelspec": {
   "display_name": "Python 3",
   "language": "python",
   "name": "python3"
  },
  "language_info": {
   "codemirror_mode": {
    "name": "ipython",
    "version": 3
   },
   "file_extension": ".py",
   "mimetype": "text/x-python",
   "name": "python",
   "nbconvert_exporter": "python",
   "pygments_lexer": "ipython3",
   "version": "3.6.9"
  }
 },
 "nbformat": 4,
 "nbformat_minor": 5
}
